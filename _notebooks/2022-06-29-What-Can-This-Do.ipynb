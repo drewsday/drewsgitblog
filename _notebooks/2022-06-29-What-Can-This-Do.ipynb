{
 "cells": [
  {
   "cell_type": "markdown",
   "id": "a48d80bc",
   "metadata": {},
   "source": [
    "# What can a jupyter notebook blog post do\\?\n",
    "> \"I'm going to try to test this out a bit\"\n",
    "\n",
    "- toc:true\n",
    "- branch: master\n",
    "- badges: false\n",
    "- comments: false\n",
    "- author: Andrew Morrison\n",
    "- categories: [fastpages, jupyter]"
   ]
  },
  {
   "cell_type": "markdown",
   "id": "a9ab72d4",
   "metadata": {},
   "source": [
    "This video has been living rent-free in my head for the past month:\n",
    "\n",
    "> twitter:https://twitter.com/howie_hua/status/1531410501946572800"
   ]
  },
  {
   "cell_type": "code",
   "execution_count": null,
   "id": "703d22fd",
   "metadata": {},
   "outputs": [],
   "source": []
  }
 ],
 "metadata": {
  "kernelspec": {
   "display_name": "Python 3",
   "language": "python",
   "name": "python3"
  },
  "language_info": {
   "codemirror_mode": {
    "name": "ipython",
    "version": 3
   },
   "file_extension": ".py",
   "mimetype": "text/x-python",
   "name": "python",
   "nbconvert_exporter": "python",
   "pygments_lexer": "ipython3",
   "version": "3.7.10"
  }
 },
 "nbformat": 4,
 "nbformat_minor": 5
}
